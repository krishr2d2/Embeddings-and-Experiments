{
 "cells": [
  {
   "cell_type": "markdown",
   "id": "9ad1657e",
   "metadata": {},
   "source": [
    "## Installation"
   ]
  },
  {
   "cell_type": "code",
   "execution_count": null,
   "id": "36ad791b",
   "metadata": {},
   "outputs": [],
   "source": [
    "!pip install --upgrade chromadb"
   ]
  },
  {
   "cell_type": "markdown",
   "id": "b8ca0da0",
   "metadata": {},
   "source": [
    "## Process the subtitles (SRT) file\n",
    "\n",
    "The subtitles file consists of the following fields: \n",
    "\n",
    "1. A numeric counter identifying each sequential subtitle.\n",
    "2. The time that the subtitle should appear on the screen, followed by --> and the time it should disappear.\n",
    "3. Subtitle text itself on one or more lines.\n",
    "4. A blank line containing no text, indicating the end of the subtitle.\n"
   ]
  },
  {
   "cell_type": "code",
   "execution_count": 2,
   "id": "507876d1",
   "metadata": {},
   "outputs": [
    {
     "name": "stdout",
     "output_type": "stream",
     "text": [
      "Index: 1\n",
      "Start Time: 00:00:33,466\n",
      "End Time: 00:00:35,769\n",
      "Text: (Morse code transmissions)\n",
      "\n",
      "Index: 2\n",
      "Start Time: 00:00:49,448\n",
      "End Time: 00:00:51,651\n",
      "Text: (footsteps approaching)\n",
      "\n",
      "Index: 3\n",
      "Start Time: 00:00:51,684\n",
      "End Time: 00:00:54,054\n",
      "Text: ♪ ♪\n",
      "\n",
      "Index: 4\n",
      "Start Time: 00:01:04,463\n",
      "End Time: 00:01:05,932\n",
      "Text: (sniffs)\n",
      "\n"
     ]
    }
   ],
   "source": [
    "import re\n",
    "# function to extract the subtitles data from SRT file\n",
    "def extract_srt_blocks(file_path):\n",
    "    with open(file_path, 'r', encoding='utf-8') as file:\n",
    "        srt_content = file.read()\n",
    "\n",
    "    # Define a regular expression pattern to match SRT blocks\n",
    "    pattern = r'(\\d+)\\n(\\d{2}:\\d{2}:\\d{2},\\d{3}) --> (\\d{2}:\\d{2}:\\d{2},\\d{3})\\n(.+?)(?=\\n\\n|\\n$|\\Z)'\n",
    "    \n",
    "    # Use re.findall to find all matches in the SRT content\n",
    "    matches = re.findall(pattern, srt_content, re.DOTALL)\n",
    "\n",
    "    # Create a list of dictionaries containing index, start time, end time, and text\n",
    "    srt_blocks = [{'index': int(match[0]),\n",
    "                   'start_time': match[1],\n",
    "                   'end_time': match[2],\n",
    "                   'text': match[3].strip()} for match in matches]\n",
    "\n",
    "    return srt_blocks\n",
    "\n",
    "file_path = 'imitation game.srt'\n",
    "blocks = extract_srt_blocks(file_path)\n",
    "\n",
    "# Check some blocks\n",
    "for block in blocks[:4]:\n",
    "    print(f\"Index: {block['index']}\")\n",
    "    print(f\"Start Time: {block['start_time']}\")\n",
    "    print(f\"End Time: {block['end_time']}\")\n",
    "    print(f\"Text: {block['text']}\")\n",
    "    print()\n",
    "    \n",
    "# assert that the length of the blocks and the id of last block match\n",
    "assert len(blocks) == blocks[-1]['index']"
   ]
  },
  {
   "cell_type": "markdown",
   "id": "b448706a",
   "metadata": {},
   "source": [
    "Aggregate the text into chunks / windows."
   ]
  },
  {
   "cell_type": "code",
   "execution_count": 3,
   "id": "126d0d34",
   "metadata": {},
   "outputs": [],
   "source": [
    "def srt_time_to_seconds(time_str):\n",
    "    # Converts SRT time format (hh:mm:ss,mmm) to seconds\n",
    "    parts = time_str.replace(',', ':').split(':')\n",
    "    hours, minutes, seconds, milliseconds = map(int, parts)\n",
    "    return hours * 3600 + minutes * 60 + seconds + milliseconds / 1000\n",
    "\n",
    "def seconds_to_srt_time(seconds):\n",
    "    # Converts seconds to SRT time format (hh:mm:ss,mmm)\n",
    "    hours, remainder = divmod(seconds, 3600)\n",
    "    minutes, seconds = divmod(remainder, 60)\n",
    "    milliseconds = int((seconds - int(seconds)) * 1000)\n",
    "    # Return the time string\n",
    "    time_str = f\"{int(hours):02d}:{int(minutes):02d}:{int(seconds):02d},{milliseconds:03d}\"\n",
    "    return time_str\n",
    "\n",
    "# function to aggregate the subtitles into windows of specified size\n",
    "def aggregate_srt_blocks(blocks, window_size=60):\n",
    "    # initialize list to save the windows\n",
    "    aggregated_windows = []\n",
    "    # convert last end time from srt-time format to seconds\n",
    "    last_end_time = srt_time_to_seconds(blocks[-1]['end_time'])\n",
    "    # initialize the start time\n",
    "    curr_start_time = 0\n",
    "    # initialize the block index\n",
    "    curr_block_index = 0\n",
    "    # initialize the window index\n",
    "    curr_id = 0\n",
    "    # iterate till the last end timestamp of subtitles\n",
    "    while curr_start_time < last_end_time+1:\n",
    "        # define a dict to collect the aggregated data\n",
    "        current_window = {}\n",
    "        current_window['id'] = str(curr_id)\n",
    "        current_window['text'] = ''\n",
    "        # convert start time from seconds to srt-time format\n",
    "        current_window['start_time'] = seconds_to_srt_time(curr_start_time)\n",
    "        # convert current block's start time from srt-time format to seconds\n",
    "        block_start_seconds = srt_time_to_seconds(blocks[curr_block_index]['start_time'])\n",
    "        # iterate through the blocks based on the current time and window size\n",
    "        while (block_start_seconds > curr_start_time) and (block_start_seconds <= curr_start_time + window_size) and curr_block_index < len(blocks):\n",
    "            # concatenate (aggregate) the text with the previously saved text\n",
    "            current_window['text'] += \"\\n\" + blocks[curr_block_index]['text']\n",
    "            curr_block_index += 1\n",
    "            if curr_block_index < len(blocks):\n",
    "                # update the start time for next block in seconds\n",
    "                block_start_seconds = srt_time_to_seconds(blocks[curr_block_index]['start_time'])\n",
    "        # increment the window size\n",
    "        curr_start_time += window_size\n",
    "        # convert end time from seconds to srt-time format\n",
    "        current_window['end_time'] = seconds_to_srt_time(curr_start_time)\n",
    "        # append the aggregated data to a list\n",
    "        aggregated_windows.append(current_window)\n",
    "        # increment the index for windows\n",
    "        curr_id += 1\n",
    "    # return the aggregated window data\n",
    "    return aggregated_windows\n",
    "\n",
    "chunks = aggregate_srt_blocks(blocks, window_size=120)"
   ]
  },
  {
   "cell_type": "markdown",
   "id": "ec39faa3",
   "metadata": {},
   "source": [
    "## Create a collection in Chromadb\n",
    "\n",
    "Collections are where you'll store your embeddings, documents, and any additional metadata. You can create a collection with a name."
   ]
  },
  {
   "cell_type": "code",
   "execution_count": 4,
   "id": "93838636",
   "metadata": {},
   "outputs": [],
   "source": [
    "import chromadb\n",
    "\n",
    "# create a chroma client\n",
    "chroma_client = chromadb.Client()"
   ]
  },
  {
   "cell_type": "code",
   "execution_count": 5,
   "id": "ee072fc4",
   "metadata": {},
   "outputs": [],
   "source": [
    "# create a collection\n",
    "collection = chroma_client.create_collection(name=\"imitation_game\")\n",
    "# get the collection(optional)\n",
    "collection = chroma_client.get_collection(\"imitation_game\")"
   ]
  },
  {
   "cell_type": "markdown",
   "id": "0249407b",
   "metadata": {},
   "source": [
    "## Add some text documents to the collection\n",
    "\n",
    "Chroma will store your text, and handle tokenization, embedding, and indexing automatically."
   ]
  },
  {
   "cell_type": "code",
   "execution_count": 6,
   "id": "864a443a",
   "metadata": {},
   "outputs": [],
   "source": [
    "# add documents to your collection\n",
    "collection.add(\n",
    "    documents=[chunk['text'] for chunk in chunks],\n",
    "    metadatas=[{'start': chunk['start_time'], 'end': chunk['end_time']} for chunk in chunks],\n",
    "    ids=[chunk['id'] for chunk in chunks]\n",
    ")"
   ]
  },
  {
   "cell_type": "markdown",
   "id": "a9bc4cd3",
   "metadata": {},
   "source": [
    "## Query the collection\n",
    "\n",
    "Query the collection using the `.query()` method."
   ]
  },
  {
   "cell_type": "code",
   "execution_count": 7,
   "id": "66604b30",
   "metadata": {
    "scrolled": true
   },
   "outputs": [
    {
     "name": "stdout",
     "output_type": "stream",
     "text": [
      "01:46:00,000 --> 01:48:00,000\n",
      "\n",
      "Do you know,\n",
      "this morning...\n",
      "(sighs) I was\n",
      "on a train\n",
      "that went through a city\n",
      "that wouldn't exist\n",
      "if it wasn't for you.\n",
      "I bought a ticket\n",
      "from a man\n",
      "who would likely be dead\n",
      "if it wasn't for you.\n",
      "I read up\n",
      "on my work...\n",
      "a whole field of\n",
      "scientific inquiry\n",
      "that only exists\n",
      "because of you.\n",
      "Now, if you wish you\n",
      "could have been normal...\n",
      "I can promise\n",
      "you I do not.\n",
      "The world is an\n",
      "infinitely better place\n",
      "precisely because\n",
      "you weren't.\n",
      "Do you...\n",
      "do you really think that?\n",
      "I think...\n",
      "that sometimes\n",
      "it is the people\n",
      "who no one imagines\n",
      "anything of\n",
      "who do the things\n",
      "that no one can imagine.\n",
      "♪ ♪\n",
      "(sighs)\n",
      "(exhales)\n",
      "♪ ♪\n"
     ]
    }
   ],
   "source": [
    "# query and fetch the results\n",
    "results = collection.query(\n",
    "    query_texts=[\"people who no one can imagine does things that no one can imagine\"],\n",
    "    n_results=1\n",
    ")\n",
    "print (results['metadatas'][0][0]['start'],'-->',results['metadatas'][0][0]['end'])\n",
    "print (results['documents'][0][0])"
   ]
  },
  {
   "cell_type": "markdown",
   "id": "b8424d6f",
   "metadata": {},
   "source": [
    "## Clean up\n",
    "\n",
    "Delete the created collection."
   ]
  },
  {
   "cell_type": "code",
   "execution_count": 8,
   "id": "3b780e82",
   "metadata": {},
   "outputs": [],
   "source": [
    "chroma_client.delete_collection(\"imitation_game\")"
   ]
  }
 ],
 "metadata": {
  "kernelspec": {
   "display_name": "Python [conda env:cgpt] *",
   "language": "python",
   "name": "conda-env-cgpt-py"
  },
  "language_info": {
   "codemirror_mode": {
    "name": "ipython",
    "version": 3
   },
   "file_extension": ".py",
   "mimetype": "text/x-python",
   "name": "python",
   "nbconvert_exporter": "python",
   "pygments_lexer": "ipython3",
   "version": "3.9.0"
  }
 },
 "nbformat": 4,
 "nbformat_minor": 5
}
